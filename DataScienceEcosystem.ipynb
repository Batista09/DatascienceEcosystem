{
 "cells": [
  {
   "cell_type": "markdown",
   "id": "0c5f1b43-b00b-4b02-bf30-a8fb11fae670",
   "metadata": {},
   "source": [
    "## Autor\n",
    "Andrés Carpio Batista"
   ]
  },
  {
   "cell_type": "markdown",
   "id": "e9b9e8af-dd89-419b-a301-d0748125698a",
   "metadata": {},
   "source": [
    "# Data Science Tools and Ecosystem"
   ]
  },
  {
   "cell_type": "markdown",
   "id": "bcec46f8-9d84-4d63-a881-9e9bcaa6b62c",
   "metadata": {},
   "source": [
    "# Herramientas y Ecosistemas de ciencias de datos"
   ]
  },
  {
   "cell_type": "markdown",
   "id": "a33e9dab-da57-4602-b36a-a5cf2ea3738b",
   "metadata": {},
   "source": [
    "**Objetivos**\n",
    "- Listar lenguajes populares para Ciencia de Datos  \r\n",
    "- Identificar bibliotecas comunes en Ciencia de Datos  \r\n",
    "- Crear tablas y listas usando Markdown  \r\n",
    "- Ejecutar expresiones aritméticas básicas en Python  \r\n",
    "- Convertir unidades como minutos a horas "
   ]
  },
  {
   "cell_type": "markdown",
   "id": "c63b0fd9-72d8-4beb-a7ac-e040236f2039",
   "metadata": {},
   "source": [
    "# Lenguajes en ciencias de datos\n",
    "1.Python\n",
    "2.R\n",
    "3.SQL\n",
    "4.Julia\n",
    "5.Scala\n",
    "6.Java"
   ]
  },
  {
   "cell_type": "markdown",
   "id": "36e02e70-970a-4da3-b754-79f7ee09c9fc",
   "metadata": {},
   "source": [
    "# Bibliotecas comunes en ciencia de datos\n",
    "1. NumPy  \r\n",
    "2. Pandas  \r\n",
    "3. Matplotlib  \r\n",
    "4. Scikit-learn  \r\n",
    "5. TensorFlow"
   ]
  },
  {
   "cell_type": "markdown",
   "id": "26626b41-dec8-4073-a708-436a9e619db9",
   "metadata": {},
   "source": [
    "# Herramientas de Ciencia de Datos\r\n",
    "\r\n",
    "| Herramientas de Ciencia de Datos |\r\n",
    "|----------------------------------|\r\n",
    "| Jupyter Notebook                 |\r\n",
    "| RStudio                          |\r\n",
    "| VS Code                          |\r\n"
   ]
  },
  {
   "cell_type": "markdown",
   "id": "77aca6d5-b173-4d67-8d62-2780a8b316da",
   "metadata": {},
   "source": [
    "# Expresiones Aritméticas \n",
    "### Expresiones aritméticas en Python "
   ]
  },
  {
   "cell_type": "code",
   "execution_count": 5,
   "id": "6fd426b8-49a9-4156-91e5-6f6756c03c15",
   "metadata": {},
   "outputs": [
    {
     "data": {
      "text/plain": [
       "17"
      ]
     },
     "execution_count": 5,
     "metadata": {},
     "output_type": "execute_result"
    }
   ],
   "source": [
    "# Multiplicación y suma.\n",
    "(3*4)+5"
   ]
  },
  {
   "cell_type": "code",
   "execution_count": 6,
   "id": "c339ef99-51de-4c23-9366-0d4bde46b7f6",
   "metadata": {},
   "outputs": [
    {
     "data": {
      "text/plain": [
       "3.3333333333333335"
      ]
     },
     "execution_count": 6,
     "metadata": {},
     "output_type": "execute_result"
    }
   ],
   "source": [
    "# Conversion de 200 minutos en horas.\n",
    "200/60"
   ]
  },
  {
   "cell_type": "code",
   "execution_count": null,
   "id": "6c4b99b4-6fd6-470b-8cd1-5a4860778e5b",
   "metadata": {},
   "outputs": [],
   "source": []
  }
 ],
 "metadata": {
  "kernelspec": {
   "display_name": "Python 3 (ipykernel)",
   "language": "python",
   "name": "python3"
  },
  "language_info": {
   "codemirror_mode": {
    "name": "ipython",
    "version": 3
   },
   "file_extension": ".py",
   "mimetype": "text/x-python",
   "name": "python",
   "nbconvert_exporter": "python",
   "pygments_lexer": "ipython3",
   "version": "3.11.7"
  }
 },
 "nbformat": 4,
 "nbformat_minor": 5
}
